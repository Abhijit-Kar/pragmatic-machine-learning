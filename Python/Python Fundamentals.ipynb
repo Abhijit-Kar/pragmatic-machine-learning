{
 "cells": [
  {
   "cell_type": "markdown",
   "metadata": {},
   "source": [
    "# Basic Concepts"
   ]
  },
  {
   "cell_type": "code",
   "execution_count": 1,
   "metadata": {},
   "outputs": [
    {
     "name": "stdout",
     "output_type": "stream",
     "text": [
      "Hello, Abhijit\n"
     ]
    }
   ],
   "source": [
    "print(\"Hello, {}\".format(\"Abhijit\"))"
   ]
  },
  {
   "cell_type": "code",
   "execution_count": 2,
   "metadata": {},
   "outputs": [
    {
     "name": "stdout",
     "output_type": "stream",
     "text": [
      "Let's delay the code by 1000.0 milliseconds!\n",
      "Again by 1000 milliseconds!\n",
      "Or Square root of 9 = 3.0\n"
     ]
    }
   ],
   "source": [
    "print(\"Let's delay the code by {mew} milliseconds!\".format(mew = 1e3))\n",
    "print(\"Again by {mau} milliseconds!\".format(mau = 10 ** 3))\n",
    "\n",
    "print(\"Or Square root of 9 = {0}\".format(9 ** 0.5))"
   ]
  },
  {
   "cell_type": "code",
   "execution_count": 3,
   "metadata": {},
   "outputs": [
    {
     "name": "stdout",
     "output_type": "stream",
     "text": [
      "Quotient : 3\n",
      "Remainder : 2\n"
     ]
    }
   ],
   "source": [
    "print(\"Quotient : \" + str(20 // 6))\n",
    "print(\"Remainder : \" + str(20 % 6))"
   ]
  },
  {
   "cell_type": "code",
   "execution_count": 4,
   "metadata": {},
   "outputs": [
    {
     "name": "stdout",
     "output_type": "stream",
     "text": [
      "Hello World,\n",
      "\n",
      "Introducing the new and exciting multi line string\n"
     ]
    }
   ],
   "source": [
    "print(\"\"\"Hello World,\n",
    "\n",
    "Introducing the new and exciting multi line string\"\"\")"
   ]
  },
  {
   "cell_type": "code",
   "execution_count": 5,
   "metadata": {},
   "outputs": [
    {
     "data": {
      "text/plain": [
       "3"
      ]
     },
     "execution_count": 5,
     "metadata": {},
     "output_type": "execute_result"
    }
   ],
   "source": [
    "1 + int('2')  # Conversions don't happen automatically"
   ]
  },
  {
   "cell_type": "code",
   "execution_count": 6,
   "metadata": {},
   "outputs": [
    {
     "name": "stdout",
     "output_type": "stream",
     "text": [
      "*\n",
      "**\n",
      "***\n",
      "****\n",
      "*****\n"
     ]
    }
   ],
   "source": [
    "# How easy can it get!\n",
    "for i in range(1, 6):\n",
    "    print('*' * i)"
   ]
  },
  {
   "cell_type": "code",
   "execution_count": 7,
   "metadata": {},
   "outputs": [
    {
     "name": "stdout",
     "output_type": "stream",
     "text": [
      "3.142857142857143\n"
     ]
    }
   ],
   "source": [
    "x = float(\"22\")\n",
    "y = float(\"7\")\n",
    "\n",
    "print(x / y)"
   ]
  },
  {
   "cell_type": "markdown",
   "metadata": {},
   "source": [
    "# Control Structures"
   ]
  },
  {
   "cell_type": "code",
   "execution_count": 8,
   "metadata": {},
   "outputs": [
    {
     "name": "stdout",
     "output_type": "stream",
     "text": [
      "Equal\n"
     ]
    }
   ],
   "source": [
    "mew = 10\n",
    "\n",
    "if mew < 10:\n",
    "    print(\"Less\")\n",
    "elif mew == 10:\n",
    "    print(\"Equal\")\n",
    "else:\n",
    "    print(\"More\")"
   ]
  },
  {
   "cell_type": "code",
   "execution_count": 9,
   "metadata": {},
   "outputs": [
    {
     "name": "stdout",
     "output_type": "stream",
     "text": [
      "False\n",
      "True\n",
      "False\n"
     ]
    }
   ],
   "source": [
    "print(True and False)\n",
    "print(True or False)\n",
    "print(not True)"
   ]
  },
  {
   "cell_type": "code",
   "execution_count": 10,
   "metadata": {},
   "outputs": [
    {
     "name": "stdout",
     "output_type": "stream",
     "text": [
      "*\n",
      "**\n",
      "***\n",
      "****\n",
      "*****\n",
      "============\n"
     ]
    }
   ],
   "source": [
    "\"\"\"\n",
    "range() doesn't work with while.\n",
    "While is boolean based not generator based like for\n",
    "\"\"\"\n",
    "i = 1\n",
    "while i <= 5:\n",
    "    print('*' * i)\n",
    "    i += 1\n",
    "else:\n",
    "    print(\"============\")"
   ]
  },
  {
   "cell_type": "markdown",
   "metadata": {},
   "source": [
    "# Lists"
   ]
  },
  {
   "cell_type": "code",
   "execution_count": 11,
   "metadata": {},
   "outputs": [
    {
     "name": "stdout",
     "output_type": "stream",
     "text": [
      "List: [0, 'one', [2, 3, 4], 'five', 6]\n",
      "Index: one\n",
      "True\n",
      "5\n",
      "2\n",
      "5\n",
      "1\n",
      "3\n",
      "[2, 2, 3, 4, 5, 1]\n"
     ]
    }
   ],
   "source": [
    "ls = []\n",
    "\n",
    "ls += ['one',]\n",
    "\n",
    "ls += [[2, 3, 4], 'five']\n",
    "\n",
    "ls.append(6)\n",
    "ls.insert(0, 0)\n",
    "\n",
    "print(\"List: {}\\nIndex: {}\".format(ls, ls[1]))\n",
    "\n",
    "print('2' not in ls)\n",
    "print(len(ls))\n",
    "print(ls.index([2, 3, 4]))\n",
    "\n",
    "ls = [1, 2, 5, 4, 3, 2, 2]\n",
    "\n",
    "print(max(ls))\n",
    "print(min(ls))\n",
    "print(ls.count(2))\n",
    "\n",
    "ls.remove(2)\n",
    "ls.reverse()\n",
    "\n",
    "print(ls)"
   ]
  },
  {
   "cell_type": "code",
   "execution_count": 12,
   "metadata": {},
   "outputs": [
    {
     "name": "stdout",
     "output_type": "stream",
     "text": [
      "1:  [2, 4, 6, 8, 10, 12, 14, 16, 18]\n",
      "2:  [2, 4, 6, 8, 10, 12, 14, 16, 18]\n",
      "3:  [18, 16, 14, 12, 10, 8, 6, 4, 2]\n"
     ]
    }
   ],
   "source": [
    "print(\"1: \", [i for i in range(1, 20) if i % 2 == 0])\n",
    "print(\"2: \", [i for i in range(2, 20, 2)])\n",
    "print(\"3: \", [i for i in range(18, 0, -2)])"
   ]
  },
  {
   "cell_type": "code",
   "execution_count": 13,
   "metadata": {},
   "outputs": [
    {
     "name": "stdout",
     "output_type": "stream",
     "text": [
      "Range:  range(0, 5)\n",
      "List:  [0, 1, 2, 3, 4]\n"
     ]
    }
   ],
   "source": [
    "print(\"Range: \", range(5))\n",
    "print(\"List: \", list(range(5)))"
   ]
  },
  {
   "cell_type": "code",
   "execution_count": 14,
   "metadata": {},
   "outputs": [
    {
     "name": "stdout",
     "output_type": "stream",
     "text": [
      "Hello\n",
      "World!\n"
     ]
    }
   ],
   "source": [
    "for word in ['Hello', 'World!']:\n",
    "    print(word)"
   ]
  },
  {
   "cell_type": "code",
   "execution_count": 15,
   "metadata": {},
   "outputs": [
    {
     "name": "stdout",
     "output_type": "stream",
     "text": [
      "[0, 1, 4, 9, 16]\n",
      "[0, 1, 4, 9, 16]\n",
      "[0, 1, 4, 9, 16]\n"
     ]
    }
   ],
   "source": [
    "f = lambda x: x * x\n",
    "print([f(x) for x in range(5)])\n",
    "print([(lambda x: x * x)(x) for x in range(5)])\n",
    "print([x * x for x in range(5)])"
   ]
  },
  {
   "cell_type": "markdown",
   "metadata": {},
   "source": [
    "# Functions and Modules"
   ]
  },
  {
   "cell_type": "markdown",
   "metadata": {
    "collapsed": true
   },
   "source": [
    "###### DRY - Don't repeat yourself vs WET - We Enjoy Typing | Write Everything Twice"
   ]
  },
  {
   "cell_type": "code",
   "execution_count": 16,
   "metadata": {},
   "outputs": [
    {
     "name": "stdout",
     "output_type": "stream",
     "text": [
      "8\n",
      "3.141592653589793\n"
     ]
    }
   ],
   "source": [
    "import random\n",
    "from math import pi as PI\n",
    "\n",
    "print(random.randint(1, 10))\n",
    "print(PI)"
   ]
  },
  {
   "cell_type": "markdown",
   "metadata": {},
   "source": [
    "# Exceptions"
   ]
  },
  {
   "cell_type": "code",
   "execution_count": 17,
   "metadata": {},
   "outputs": [
    {
     "name": "stdout",
     "output_type": "stream",
     "text": [
      "Some Error occured\n",
      "Finally, Closing the application\n"
     ]
    }
   ],
   "source": [
    "try:\n",
    "    print(yo)\n",
    "    \"2\" + 2\n",
    "    2 / 0\n",
    "except ZeroDivisionError:\n",
    "    print(\"Zero Division Error occured\")\n",
    "except (TypeError, ):\n",
    "    print(\"Type Error occured\")\n",
    "except:\n",
    "    print(\"Some Error occured\")\n",
    "finally:\n",
    "    print(\"Finally, Closing the application\")"
   ]
  },
  {
   "cell_type": "code",
   "execution_count": 18,
   "metadata": {
    "collapsed": true
   },
   "outputs": [],
   "source": [
    "# try:\n",
    "#     raise NameError(\"Invalid Name\")\n",
    "# except NameError:\n",
    "#     print(\"Name error occured\")\n",
    "#     raise"
   ]
  },
  {
   "cell_type": "code",
   "execution_count": 19,
   "metadata": {
    "collapsed": true
   },
   "outputs": [],
   "source": [
    "# assert (2 + 2 / 2 == 2), \"Failed Miserably at assertion\""
   ]
  },
  {
   "cell_type": "code",
   "execution_count": 20,
   "metadata": {},
   "outputs": [
    {
     "name": "stdout",
     "output_type": "stream",
     "text": [
      "\n",
      "Nooooo!\n"
     ]
    }
   ],
   "source": [
    "try:\n",
    "    print(\"\")\n",
    "except:\n",
    "    print(\"\")\n",
    "else:\n",
    "    # if no exceptions occured, I will be \"Executed\".\n",
    "    print(\"Nooooo!\")"
   ]
  },
  {
   "cell_type": "markdown",
   "metadata": {},
   "source": [
    "# Data Types"
   ]
  },
  {
   "cell_type": "code",
   "execution_count": 21,
   "metadata": {},
   "outputs": [
    {
     "name": "stdout",
     "output_type": "stream",
     "text": [
      "Mew\n",
      "None\n"
     ]
    }
   ],
   "source": [
    "def mew():\n",
    "    print(\"Mew\")\n",
    "    \n",
    "print(mew())  # A function that doesn't return anything, actually returns None"
   ]
  },
  {
   "cell_type": "code",
   "execution_count": 22,
   "metadata": {},
   "outputs": [
    {
     "name": "stdout",
     "output_type": "stream",
     "text": [
      "{}\n",
      "{'Dave': 23, 'Mary': [23, 25], (33, 36): 'Jane'}\n",
      "23\n",
      "Jane\n",
      "{'Dave': 23, 'Mary': [23, 25], (33, 36): 'Jane', 'Diana': 'Unknown'}\n",
      "True\n",
      "Not in Dictionary\n"
     ]
    }
   ],
   "source": [
    "ages = {}\n",
    "print(ages)\n",
    "\n",
    "ages = {'Dave': 23, 'Mary': [23, 25], (33, 36): 'Jane'}\n",
    "\n",
    "print(ages)\n",
    "print(ages['Dave'])\n",
    "print(ages[(33, 36)])\n",
    "\n",
    "ages['Diana'] = 'Unknown'\n",
    "\n",
    "print(ages)\n",
    "\n",
    "print('Abhijit' not in ages)\n",
    "print(ages.get('Abhijit', \"Not in Dictionary\"))"
   ]
  },
  {
   "cell_type": "code",
   "execution_count": 23,
   "metadata": {},
   "outputs": [
    {
     "name": "stdout",
     "output_type": "stream",
     "text": [
      "Short Cut:  {0: 'Monday', 1: 'Tuesday', 2: 'Wednesday', 3: 'Thursday', 4: 'Friday', 5: 'Saturday', 6: 'Sunday'}\n",
      "Long Cut:  {0: 'Monday', 1: 'Tuesday', 2: 'Wednesday', 3: 'Thursday', 4: 'Friday', 5: 'Saturday', 6: 'Sunday'}\n"
     ]
    }
   ],
   "source": [
    "keys = list(range(7))\n",
    "vals = ['Monday', 'Tuesday', 'Wednesday', 'Thursday', 'Friday', 'Saturday', 'Sunday']\n",
    "week_days = dict(zip(keys, vals))\n",
    "\n",
    "print(\"Short Cut: \", week_days)\n",
    "\n",
    "# Long Cut\n",
    "week_days_dict = {i: vals[i] for i in range(7)}\n",
    "\n",
    "print(\"Long Cut: \", week_days_dict)"
   ]
  },
  {
   "cell_type": "markdown",
   "metadata": {},
   "source": [
    "# Tuples"
   ]
  },
  {
   "cell_type": "code",
   "execution_count": 24,
   "metadata": {},
   "outputs": [
    {
     "name": "stdout",
     "output_type": "stream",
     "text": [
      "('Abhijit', 'Bipender', 'Ashutosh')\n",
      "('Only need a comma to create tuple',)\n"
     ]
    }
   ],
   "source": [
    "names = ('Abhijit', 'Bipender', 'Ashutosh')\n",
    "\n",
    "print(names)\n",
    "\n",
    "tupl = 'Only need a comma to create tuple',\n",
    "\n",
    "print(tupl)"
   ]
  },
  {
   "cell_type": "markdown",
   "metadata": {
    "collapsed": true
   },
   "source": [
    "# List Slices"
   ]
  },
  {
   "cell_type": "markdown",
   "metadata": {
    "collapsed": true
   },
   "source": [
    "### Basic List Slicing"
   ]
  },
  {
   "cell_type": "code",
   "execution_count": 25,
   "metadata": {},
   "outputs": [
    {
     "name": "stdout",
     "output_type": "stream",
     "text": [
      "[1, 2, 3, 4]\n",
      "[0, 1, 2]\n",
      "[3, 4, 5, 6]\n",
      "[0, 2, 4, 6]\n",
      "('Math', 'Science', 'English')\n",
      "('Math', 'English')\n",
      "('Science', 'English')\n"
     ]
    }
   ],
   "source": [
    "names = [0, 1, 2, 3, 4, 5, 6]\n",
    "\n",
    "print(names[1:5])\n",
    "print(names[:3])\n",
    "print(names[3:])\n",
    "print(names[::2])\n",
    "\n",
    "subjects = ('Math', 'Science', 'English', 'Geography')\n",
    "print(subjects[:3])\n",
    "print(subjects[0:3:2])\n",
    "print(subjects[1:-1])"
   ]
  },
  {
   "cell_type": "markdown",
   "metadata": {},
   "source": [
    "### List reversal"
   ]
  },
  {
   "cell_type": "code",
   "execution_count": 26,
   "metadata": {},
   "outputs": [
    {
     "name": "stdout",
     "output_type": "stream",
     "text": [
      "[5, 4, 3, 2, 1]\n"
     ]
    }
   ],
   "source": [
    "arr = [1, 2, 3, 4, 5]\n",
    "\n",
    "print(arr[::-1])"
   ]
  },
  {
   "cell_type": "markdown",
   "metadata": {},
   "source": [
    "# List Comprehension"
   ]
  },
  {
   "cell_type": "code",
   "execution_count": 27,
   "metadata": {},
   "outputs": [
    {
     "name": "stdout",
     "output_type": "stream",
     "text": [
      "[0, 1, 8, 27, 64]\n"
     ]
    }
   ],
   "source": [
    "cubes = [i ** 3 for i in range(5)]\n",
    "\n",
    "print(cubes)"
   ]
  },
  {
   "cell_type": "code",
   "execution_count": 28,
   "metadata": {},
   "outputs": [
    {
     "data": {
      "text/plain": [
       "[['*'],\n",
       " ['*', '*'],\n",
       " ['*', '*', '*'],\n",
       " ['*', '*', '*', '*'],\n",
       " ['*', '*', '*', '*', '*']]"
      ]
     },
     "execution_count": 28,
     "metadata": {},
     "output_type": "execute_result"
    }
   ],
   "source": [
    "[['*'] * i for i in range(1, 6)]"
   ]
  },
  {
   "cell_type": "code",
   "execution_count": 29,
   "metadata": {},
   "outputs": [
    {
     "name": "stdout",
     "output_type": "stream",
     "text": [
      "[2, 4, 6, 8]\n",
      "[0, 0, 0, 0, 0, 0, 0, 0, 0, 0]\n"
     ]
    }
   ],
   "source": [
    "evens = [i for i in range(1, 10) if i % 2 == 0]\n",
    "\n",
    "print(evens)\n",
    "\n",
    "s = [0] * 10;\n",
    "\n",
    "print(s)"
   ]
  },
  {
   "cell_type": "markdown",
   "metadata": {
    "collapsed": true
   },
   "source": [
    "# Usefull Functions"
   ]
  },
  {
   "cell_type": "code",
   "execution_count": 30,
   "metadata": {},
   "outputs": [
    {
     "name": "stdout",
     "output_type": "stream",
     "text": [
      "24 : 06 : 1992\n",
      "Hello World!\n",
      "HELL\n",
      "['Abhijit', 'Kar']\n",
      "99\n",
      "6\n"
     ]
    }
   ],
   "source": [
    "print(' : '.join(['24', '06', '1992']))\n",
    "print(\"Hello Me\".replace('Me', 'World!'))\n",
    "print(\"Hell\".upper())\n",
    "print(\"Abhijit Kar\".split(\" \"))\n",
    "print(abs(-99))\n",
    "print(sum([1, 2, 3]))"
   ]
  },
  {
   "cell_type": "code",
   "execution_count": 31,
   "metadata": {},
   "outputs": [
    {
     "name": "stdout",
     "output_type": "stream",
     "text": [
      "All larger than 5\n",
      "At least one is even\n",
      "(0, 10)\n",
      "(1, 6)\n",
      "(2, 7)\n",
      "(3, 8)\n",
      "(4, 9)\n"
     ]
    }
   ],
   "source": [
    "nums = [10, 6, 7, 8, 9]\n",
    "\n",
    "if all([i > 5 for i in nums]):\n",
    "    print(\"All larger than 5\")\n",
    "    \n",
    "if any([i % 2 == 0 for i in nums]):\n",
    "    print(\"At least one is even\")\n",
    "    \n",
    "for v in enumerate(nums):\n",
    "    print(v)"
   ]
  },
  {
   "cell_type": "code",
   "execution_count": 32,
   "metadata": {},
   "outputs": [
    {
     "name": "stdout",
     "output_type": "stream",
     "text": [
      "c - 16.67%\n",
      "b - 33.33%\n",
      "a - 50.00%\n"
     ]
    }
   ],
   "source": [
    "# Text analyzer\n",
    "\n",
    "str = \"aaabbc\";\n",
    "\n",
    "counts = {}\n",
    "\n",
    "for c in str:\n",
    "    if c in counts:\n",
    "        counts[c] += 1\n",
    "    else:\n",
    "        counts[c] = 1\n",
    "\n",
    "str2 = set(str)\n",
    "        \n",
    "for c in str2:\n",
    "    print(\"{} - {:0.2f}%\".format(c, (counts[c] * 100) / len(str) ))"
   ]
  },
  {
   "cell_type": "markdown",
   "metadata": {},
   "source": [
    "# Functional Programming"
   ]
  },
  {
   "cell_type": "code",
   "execution_count": 33,
   "metadata": {},
   "outputs": [
    {
     "name": "stdout",
     "output_type": "stream",
     "text": [
      "3.0\n"
     ]
    }
   ],
   "source": [
    "def power_up(func, arg):\n",
    "    return func(arg)\n",
    "\n",
    "print(power_up(lambda x: x ** 0.5, 9))"
   ]
  },
  {
   "cell_type": "code",
   "execution_count": 34,
   "metadata": {},
   "outputs": [
    {
     "name": "stdout",
     "output_type": "stream",
     "text": [
      "100\n"
     ]
    }
   ],
   "source": [
    "print((lambda x: x ** 2)(10))"
   ]
  },
  {
   "cell_type": "code",
   "execution_count": 35,
   "metadata": {},
   "outputs": [
    {
     "name": "stdout",
     "output_type": "stream",
     "text": [
      "[0, 1, 2, 3, 4]\n",
      "[2, 4, 6]\n"
     ]
    }
   ],
   "source": [
    "ls = [2, 3, 4, 5, 6]\n",
    "\n",
    "print(list(map(lambda x: x - 2, ls)))\n",
    "print(list(filter(lambda x: x % 2 == 0, ls)))"
   ]
  },
  {
   "cell_type": "markdown",
   "metadata": {
    "collapsed": true
   },
   "source": [
    "# Generators"
   ]
  },
  {
   "cell_type": "code",
   "execution_count": 36,
   "metadata": {},
   "outputs": [
    {
     "name": "stdout",
     "output_type": "stream",
     "text": [
      "[0, 1, 2, 3, 4]\n",
      "[0, 1, 2, 3, 4]\n"
     ]
    }
   ],
   "source": [
    "def countdown():\n",
    "    for i in range(5):\n",
    "        yield i\n",
    "        \n",
    "print([i for i in countdown()])\n",
    "print(list(countdown()))"
   ]
  },
  {
   "cell_type": "markdown",
   "metadata": {
    "collapsed": true
   },
   "source": [
    "# Decorators"
   ]
  },
  {
   "cell_type": "code",
   "execution_count": 37,
   "metadata": {
    "scrolled": true
   },
   "outputs": [
    {
     "name": "stdout",
     "output_type": "stream",
     "text": [
      "1\n",
      "2\n",
      "6\n",
      "24\n",
      "120\n",
      "720\n",
      "5040\n",
      "40320\n",
      "362880\n"
     ]
    }
   ],
   "source": [
    "def memoise(func):\n",
    "    cache = {}\n",
    "    \n",
    "    def wrap(n):\n",
    "        if n not in cache:\n",
    "            cache[n] = func(n)\n",
    "            \n",
    "        return cache[n]\n",
    "    \n",
    "    return wrap\n",
    "        \n",
    "@memoise\n",
    "def fact(n):\n",
    "    if n == 1 or n == 0:\n",
    "        return 1\n",
    "    return n * fact(n - 1)\n",
    "\n",
    "for i in range(1, 10):\n",
    "    print(fact(i))"
   ]
  },
  {
   "cell_type": "markdown",
   "metadata": {
    "collapsed": true
   },
   "source": [
    "# Sets"
   ]
  },
  {
   "cell_type": "code",
   "execution_count": 38,
   "metadata": {},
   "outputs": [
    {
     "name": "stdout",
     "output_type": "stream",
     "text": [
      "{1, 2, 3, 4, 5}\n",
      "{'Abhijit', 'Kar'}\n"
     ]
    }
   ],
   "source": [
    "num_set = {1, 2, 3, 4, 5}\n",
    "word_set = set(['Abhijit'])\n",
    "\n",
    "word_set.add('Kar')\n",
    "\n",
    "print(num_set)\n",
    "print(word_set)"
   ]
  },
  {
   "cell_type": "code",
   "execution_count": 39,
   "metadata": {},
   "outputs": [
    {
     "name": "stdout",
     "output_type": "stream",
     "text": [
      "{1, 2, 3, 4, 5, 6, 7, 8, 9}\n",
      "{4, 5, 6}\n",
      "{1, 2, 3}\n",
      "{8, 9, 7}\n",
      "{1, 2, 3, 7, 8, 9}\n"
     ]
    }
   ],
   "source": [
    "first = {1, 2, 3, 4, 5, 6}\n",
    "second = {4, 5, 6, 7, 8, 9}\n",
    "\n",
    "print(first | second)\n",
    "print(first & second)\n",
    "print(first - second)\n",
    "print(second - first)\n",
    "print(first ^ second)"
   ]
  },
  {
   "cell_type": "markdown",
   "metadata": {
    "collapsed": true
   },
   "source": [
    "# Itertools"
   ]
  },
  {
   "cell_type": "code",
   "execution_count": 40,
   "metadata": {},
   "outputs": [
    {
     "name": "stdout",
     "output_type": "stream",
     "text": [
      "[0, 1, 3, 6, 10, 15, 21, 28]\n",
      "[0, 1, 2, 3, 4, 5, 6]\n"
     ]
    }
   ],
   "source": [
    "from itertools import accumulate, takewhile\n",
    "\n",
    "print(list(accumulate(range(8))))\n",
    "print(list(takewhile(lambda x: x <= 6, range(20))))"
   ]
  },
  {
   "cell_type": "code",
   "execution_count": 41,
   "metadata": {},
   "outputs": [
    {
     "name": "stdout",
     "output_type": "stream",
     "text": [
      "[('Abhijit', 20), ('Abhijit', 21), ('Kar', 20), ('Kar', 21)]\n",
      "[('Abhijit', 'Kar'), ('Kar', 'Abhijit')]\n"
     ]
    }
   ],
   "source": [
    "from itertools import product, permutations\n",
    "\n",
    "print(list(product([\"Abhijit\", \"Kar\"], range(20, 22))))\n",
    "print(list(permutations([\"Abhijit\", \"Kar\"])))"
   ]
  },
  {
   "cell_type": "markdown",
   "metadata": {
    "collapsed": true
   },
   "source": [
    "# OOPS"
   ]
  },
  {
   "cell_type": "code",
   "execution_count": 42,
   "metadata": {},
   "outputs": [
    {
     "name": "stdout",
     "output_type": "stream",
     "text": [
      "Nibble Mews...\n"
     ]
    }
   ],
   "source": [
    "class Animal:\n",
    "    def __init__(self, name):\n",
    "        self._name = name\n",
    "    \n",
    "    def show_name(self):\n",
    "        print(self._name, end=\" \")\n",
    "\n",
    "class Cat(Animal):\n",
    "    def purr(self):\n",
    "        super().show_name()\n",
    "        print(\"Mews...\")\n",
    "\n",
    "mew = Cat(\"Nibble\")\n",
    "\n",
    "mew.purr()"
   ]
  },
  {
   "cell_type": "markdown",
   "metadata": {
    "collapsed": true
   },
   "source": [
    "# Magic Methods aka Dunders"
   ]
  },
  {
   "cell_type": "code",
   "execution_count": 43,
   "metadata": {},
   "outputs": [
    {
     "name": "stdout",
     "output_type": "stream",
     "text": [
      "1, 3\n",
      "3, 1\n",
      "4, 4\n",
      "99\n",
      "69\n",
      "5, 5\n",
      "3.142857142857143\n"
     ]
    }
   ],
   "source": [
    "# __sub__, __mul__, __truediv__, __floordiv__, __mod__, __pow__, __and__, __xor__, __or__\n",
    "# __init__, __repr__\n",
    "# __len__, __getitem__, __iter__, __contains__, __str__\n",
    "\n",
    "class Vector2D:\n",
    "    _avoid_touch = 99\n",
    "    __dont_touch = 69   # Strongly Private\n",
    "    \n",
    "    def __init__(self, x, y):\n",
    "        self._x = x\n",
    "        self._y = y\n",
    "    \n",
    "    def __add__(self, other):\n",
    "        return Vector2D(self._x + other._x, self._y + other._y)\n",
    "    \n",
    "    def __repr__(self):\n",
    "        return \"{}, {}\".format(self._x, self._y)\n",
    "    \n",
    "    @classmethod\n",
    "    def new_vector(cls, x, y):    # Used as a  factory method to instantiate the class\n",
    "        return cls(x, y)\n",
    "    \n",
    "    @staticmethod\n",
    "    def custom_pi():\n",
    "        return 22 / 7\n",
    "    \n",
    "first = Vector2D(1, 3)\n",
    "second = Vector2D(3, 1)\n",
    "\n",
    "print(first)\n",
    "print(second)\n",
    "print(first + second)\n",
    "\n",
    "print(first._avoid_touch)\n",
    "print(first._Vector2D__dont_touch)\n",
    "\n",
    "third = Vector2D.new_vector(5, 5)\n",
    "\n",
    "print(third)\n",
    "\n",
    "print(Vector2D.custom_pi())"
   ]
  },
  {
   "cell_type": "code",
   "execution_count": 44,
   "metadata": {},
   "outputs": [
    {
     "name": "stdout",
     "output_type": "stream",
     "text": [
      "23\n",
      "Hacked\n"
     ]
    }
   ],
   "source": [
    "class AnotherTest:\n",
    "    _val = 23\n",
    "    \n",
    "    @property\n",
    "    def val(self):\n",
    "        return self._val\n",
    "    \n",
    "    @val.setter\n",
    "    def val(self, val):\n",
    "        self._val = val\n",
    "\n",
    "test = AnotherTest()\n",
    "\n",
    "print(test.val)\n",
    "test.val = \"Hacked\"\n",
    "print(test.val)"
   ]
  },
  {
   "cell_type": "markdown",
   "metadata": {
    "collapsed": true
   },
   "source": [
    "# Regular Expression"
   ]
  },
  {
   "cell_type": "code",
   "execution_count": 45,
   "metadata": {},
   "outputs": [
    {
     "name": "stdout",
     "output_type": "stream",
     "text": [
      "True\n"
     ]
    }
   ],
   "source": [
    "import re\n",
    "\n",
    "pattern = r\"spam\"\n",
    "\n",
    "print(not not re.match(pattern, \"spam and eggs\"))"
   ]
  },
  {
   "cell_type": "markdown",
   "metadata": {
    "collapsed": true
   },
   "source": [
    "# Zen of Python"
   ]
  },
  {
   "cell_type": "code",
   "execution_count": 46,
   "metadata": {},
   "outputs": [
    {
     "name": "stdout",
     "output_type": "stream",
     "text": [
      "The Zen of Python, by Tim Peters\n",
      "\n",
      "Beautiful is better than ugly.\n",
      "Explicit is better than implicit.\n",
      "Simple is better than complex.\n",
      "Complex is better than complicated.\n",
      "Flat is better than nested.\n",
      "Sparse is better than dense.\n",
      "Readability counts.\n",
      "Special cases aren't special enough to break the rules.\n",
      "Although practicality beats purity.\n",
      "Errors should never pass silently.\n",
      "Unless explicitly silenced.\n",
      "In the face of ambiguity, refuse the temptation to guess.\n",
      "There should be one-- and preferably only one --obvious way to do it.\n",
      "Although that way may not be obvious at first unless you're Dutch.\n",
      "Now is better than never.\n",
      "Although never is often better than *right* now.\n",
      "If the implementation is hard to explain, it's a bad idea.\n",
      "If the implementation is easy to explain, it may be a good idea.\n",
      "Namespaces are one honking great idea -- let's do more of those!\n"
     ]
    }
   ],
   "source": [
    "import this"
   ]
  },
  {
   "cell_type": "markdown",
   "metadata": {
    "collapsed": true
   },
   "source": [
    "# Function Arguments"
   ]
  },
  {
   "cell_type": "code",
   "execution_count": 47,
   "metadata": {},
   "outputs": [
    {
     "name": "stdout",
     "output_type": "stream",
     "text": [
      "1\n",
      "(2, 3, 4, 5)\n",
      "{'a': 6, 'b': 7}\n"
     ]
    }
   ],
   "source": [
    "def func(val, *args, **kwargs):\n",
    "    print(val)\n",
    "    print(args)\n",
    "    print(kwargs)\n",
    "    \n",
    "func(1, 2, 3, 4, 5, a = 6, b = 7)"
   ]
  },
  {
   "cell_type": "code",
   "execution_count": 48,
   "metadata": {},
   "outputs": [
    {
     "name": "stdout",
     "output_type": "stream",
     "text": [
      "x: 10, y: 25\n"
     ]
    }
   ],
   "source": [
    "def new_func(x = 10, y = 20):\n",
    "    print('x: {}, y: {}'.format(x, y))\n",
    "    \n",
    "new_func(y = 25)"
   ]
  },
  {
   "cell_type": "code",
   "execution_count": 49,
   "metadata": {},
   "outputs": [
    {
     "name": "stdout",
     "output_type": "stream",
     "text": [
      "1 2 [3, 4, 5] 6\n"
     ]
    }
   ],
   "source": [
    "def multiple_returns():\n",
    "    return (1, 2, 3, 4, 5, 6)\n",
    "\n",
    "a, b, *c, d = multiple_returns()\n",
    "\n",
    "print(a, b, c, d)"
   ]
  },
  {
   "cell_type": "code",
   "execution_count": 50,
   "metadata": {},
   "outputs": [
    {
     "name": "stdout",
     "output_type": "stream",
     "text": [
      "10 5\n"
     ]
    }
   ],
   "source": [
    "a = 5\n",
    "b = 10\n",
    "\n",
    "a, b = b, a\n",
    "\n",
    "print(a, b)"
   ]
  },
  {
   "cell_type": "markdown",
   "metadata": {},
   "source": [
    "# Ternary Operator"
   ]
  },
  {
   "cell_type": "code",
   "execution_count": 51,
   "metadata": {},
   "outputs": [
    {
     "name": "stdout",
     "output_type": "stream",
     "text": [
      "Yes\n"
     ]
    }
   ],
   "source": [
    "status = True\n",
    "logged_in = \"Yes\" if status == True else \"No\"\n",
    "\n",
    "print(logged_in)"
   ]
  },
  {
   "cell_type": "code",
   "execution_count": 52,
   "metadata": {},
   "outputs": [
    {
     "name": "stdout",
     "output_type": "stream",
     "text": [
      "Script, that wont' be run if this file is imported\n"
     ]
    }
   ],
   "source": [
    "def module_func():\n",
    "    print(\"This can be called excplicitly for use\")\n",
    "\n",
    "if __name__ == \"__main__\":\n",
    "    print(\"Script, that wont' be run if this file is imported\")"
   ]
  }
 ],
 "metadata": {
  "kernelspec": {
   "display_name": "Python 3",
   "language": "python",
   "name": "python3"
  },
  "language_info": {
   "codemirror_mode": {
    "name": "ipython",
    "version": 3
   },
   "file_extension": ".py",
   "mimetype": "text/x-python",
   "name": "python",
   "nbconvert_exporter": "python",
   "pygments_lexer": "ipython3",
   "version": "3.6.2"
  }
 },
 "nbformat": 4,
 "nbformat_minor": 2
}
